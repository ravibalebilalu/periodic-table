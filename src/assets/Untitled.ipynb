{
 "cells": [
  {
   "cell_type": "code",
   "execution_count": 56,
   "id": "b53c1e81-78bf-4a8e-8b63-16bf65373017",
   "metadata": {},
   "outputs": [],
   "source": [
    "import pandas as pd\n",
    "df = pd.read_json(\"periodicTable.json\")\n",
    "df = pd.json_normalize(df['elements'])"
   ]
  },
  {
   "cell_type": "code",
   "execution_count": 57,
   "id": "ffc4651a-7cc2-40a5-a92f-631a664d5bbd",
   "metadata": {},
   "outputs": [
    {
     "data": {
      "text/html": [
       "<div>\n",
       "<style scoped>\n",
       "    .dataframe tbody tr th:only-of-type {\n",
       "        vertical-align: middle;\n",
       "    }\n",
       "\n",
       "    .dataframe tbody tr th {\n",
       "        vertical-align: top;\n",
       "    }\n",
       "\n",
       "    .dataframe thead th {\n",
       "        text-align: right;\n",
       "    }\n",
       "</style>\n",
       "<table border=\"1\" class=\"dataframe\">\n",
       "  <thead>\n",
       "    <tr style=\"text-align: right;\">\n",
       "      <th></th>\n",
       "      <th>name</th>\n",
       "      <th>appearance</th>\n",
       "      <th>atomic_mass</th>\n",
       "      <th>boil</th>\n",
       "      <th>category</th>\n",
       "      <th>density</th>\n",
       "      <th>discovered_by</th>\n",
       "      <th>melt</th>\n",
       "      <th>molar_heat</th>\n",
       "      <th>named_by</th>\n",
       "      <th>...</th>\n",
       "      <th>electron_configuration</th>\n",
       "      <th>electron_configuration_semantic</th>\n",
       "      <th>electron_affinity</th>\n",
       "      <th>electronegativity_pauling</th>\n",
       "      <th>ionization_energies</th>\n",
       "      <th>cpk-hex</th>\n",
       "      <th>block</th>\n",
       "      <th>image.title</th>\n",
       "      <th>image.url</th>\n",
       "      <th>image.attribution</th>\n",
       "    </tr>\n",
       "  </thead>\n",
       "  <tbody>\n",
       "    <tr>\n",
       "      <th>0</th>\n",
       "      <td>Hydrogen</td>\n",
       "      <td>colorless gas</td>\n",
       "      <td>1.008000</td>\n",
       "      <td>20.271</td>\n",
       "      <td>diatomic nonmetal</td>\n",
       "      <td>0.08988</td>\n",
       "      <td>Henry Cavendish</td>\n",
       "      <td>13.99</td>\n",
       "      <td>28.836</td>\n",
       "      <td>Antoine Lavoisier</td>\n",
       "      <td>...</td>\n",
       "      <td>1s1</td>\n",
       "      <td>1s1</td>\n",
       "      <td>72.7690</td>\n",
       "      <td>2.20</td>\n",
       "      <td>[1312]</td>\n",
       "      <td>ffffff</td>\n",
       "      <td>s</td>\n",
       "      <td>Vial of glowing ultrapure hydrogen, H2. Origin...</td>\n",
       "      <td>https://upload.wikimedia.org/wikipedia/commons...</td>\n",
       "      <td>User:Jurii, CC BY 3.0 &lt;https://creativecommons...</td>\n",
       "    </tr>\n",
       "    <tr>\n",
       "      <th>1</th>\n",
       "      <td>Helium</td>\n",
       "      <td>colorless gas, exhibiting a red-orange glow wh...</td>\n",
       "      <td>4.002602</td>\n",
       "      <td>4.222</td>\n",
       "      <td>noble gas</td>\n",
       "      <td>0.17860</td>\n",
       "      <td>Pierre Janssen</td>\n",
       "      <td>0.95</td>\n",
       "      <td>NaN</td>\n",
       "      <td>None</td>\n",
       "      <td>...</td>\n",
       "      <td>1s2</td>\n",
       "      <td>1s2</td>\n",
       "      <td>-48.0000</td>\n",
       "      <td>NaN</td>\n",
       "      <td>[2372.3, 5250.5]</td>\n",
       "      <td>d9ffff</td>\n",
       "      <td>s</td>\n",
       "      <td>Vial of glowing ultrapure helium. Original siz...</td>\n",
       "      <td>https://upload.wikimedia.org/wikipedia/commons...</td>\n",
       "      <td>Jurii, CC BY 3.0 &lt;https://creativecommons.org/...</td>\n",
       "    </tr>\n",
       "    <tr>\n",
       "      <th>2</th>\n",
       "      <td>Lithium</td>\n",
       "      <td>silvery-white</td>\n",
       "      <td>6.940000</td>\n",
       "      <td>1603.000</td>\n",
       "      <td>alkali metal</td>\n",
       "      <td>0.53400</td>\n",
       "      <td>Johan August Arfwedson</td>\n",
       "      <td>453.65</td>\n",
       "      <td>24.860</td>\n",
       "      <td>None</td>\n",
       "      <td>...</td>\n",
       "      <td>1s2 2s1</td>\n",
       "      <td>[He] 2s1</td>\n",
       "      <td>59.6326</td>\n",
       "      <td>0.98</td>\n",
       "      <td>[520.2, 7298.1, 11815]</td>\n",
       "      <td>cc80ff</td>\n",
       "      <td>s</td>\n",
       "      <td>0.5 Grams Lithium under Argon. Original size o...</td>\n",
       "      <td>https://upload.wikimedia.org/wikipedia/commons...</td>\n",
       "      <td>Hi-Res Images ofChemical Elements, CC BY 3.0 &lt;...</td>\n",
       "    </tr>\n",
       "    <tr>\n",
       "      <th>3</th>\n",
       "      <td>Beryllium</td>\n",
       "      <td>white-gray metallic</td>\n",
       "      <td>9.012183</td>\n",
       "      <td>2742.000</td>\n",
       "      <td>alkaline earth metal</td>\n",
       "      <td>1.85000</td>\n",
       "      <td>Louis Nicolas Vauquelin</td>\n",
       "      <td>1560.00</td>\n",
       "      <td>16.443</td>\n",
       "      <td>None</td>\n",
       "      <td>...</td>\n",
       "      <td>1s2 2s2</td>\n",
       "      <td>[He] 2s2</td>\n",
       "      <td>-48.0000</td>\n",
       "      <td>1.57</td>\n",
       "      <td>[899.5, 1757.1, 14848.7, 21006.6]</td>\n",
       "      <td>c2ff00</td>\n",
       "      <td>s</td>\n",
       "      <td>Pure Beryllium bead, 2.5 grams. Original size ...</td>\n",
       "      <td>https://upload.wikimedia.org/wikipedia/commons...</td>\n",
       "      <td>Hi-Res Images ofChemical Elements, CC BY 3.0 &lt;...</td>\n",
       "    </tr>\n",
       "    <tr>\n",
       "      <th>4</th>\n",
       "      <td>Boron</td>\n",
       "      <td>black-brown</td>\n",
       "      <td>10.810000</td>\n",
       "      <td>4200.000</td>\n",
       "      <td>metalloid</td>\n",
       "      <td>2.08000</td>\n",
       "      <td>Joseph Louis Gay-Lussac</td>\n",
       "      <td>2349.00</td>\n",
       "      <td>11.087</td>\n",
       "      <td>None</td>\n",
       "      <td>...</td>\n",
       "      <td>1s2 2s2 2p1</td>\n",
       "      <td>[He] 2s2 2p1</td>\n",
       "      <td>26.9890</td>\n",
       "      <td>2.04</td>\n",
       "      <td>[800.6, 2427.1, 3659.7, 25025.8, 32826.7]</td>\n",
       "      <td>ffb5b5</td>\n",
       "      <td>p</td>\n",
       "      <td>Pure Crystalline Boron, front and back side. O...</td>\n",
       "      <td>https://upload.wikimedia.org/wikipedia/commons...</td>\n",
       "      <td>Jurii, CC BY 3.0 &lt;https://creativecommons.org/...</td>\n",
       "    </tr>\n",
       "  </tbody>\n",
       "</table>\n",
       "<p>5 rows × 35 columns</p>\n",
       "</div>"
      ],
      "text/plain": [
       "        name                                         appearance  atomic_mass  \\\n",
       "0   Hydrogen                                      colorless gas     1.008000   \n",
       "1     Helium  colorless gas, exhibiting a red-orange glow wh...     4.002602   \n",
       "2    Lithium                                      silvery-white     6.940000   \n",
       "3  Beryllium                                white-gray metallic     9.012183   \n",
       "4      Boron                                        black-brown    10.810000   \n",
       "\n",
       "       boil              category  density            discovered_by     melt  \\\n",
       "0    20.271     diatomic nonmetal  0.08988          Henry Cavendish    13.99   \n",
       "1     4.222             noble gas  0.17860           Pierre Janssen     0.95   \n",
       "2  1603.000          alkali metal  0.53400   Johan August Arfwedson   453.65   \n",
       "3  2742.000  alkaline earth metal  1.85000  Louis Nicolas Vauquelin  1560.00   \n",
       "4  4200.000             metalloid  2.08000  Joseph Louis Gay-Lussac  2349.00   \n",
       "\n",
       "   molar_heat           named_by  ...  electron_configuration  \\\n",
       "0      28.836  Antoine Lavoisier  ...                     1s1   \n",
       "1         NaN               None  ...                     1s2   \n",
       "2      24.860               None  ...                 1s2 2s1   \n",
       "3      16.443               None  ...                 1s2 2s2   \n",
       "4      11.087               None  ...             1s2 2s2 2p1   \n",
       "\n",
       "   electron_configuration_semantic  electron_affinity  \\\n",
       "0                              1s1            72.7690   \n",
       "1                              1s2           -48.0000   \n",
       "2                         [He] 2s1            59.6326   \n",
       "3                         [He] 2s2           -48.0000   \n",
       "4                     [He] 2s2 2p1            26.9890   \n",
       "\n",
       "  electronegativity_pauling                        ionization_energies  \\\n",
       "0                      2.20                                     [1312]   \n",
       "1                       NaN                           [2372.3, 5250.5]   \n",
       "2                      0.98                     [520.2, 7298.1, 11815]   \n",
       "3                      1.57          [899.5, 1757.1, 14848.7, 21006.6]   \n",
       "4                      2.04  [800.6, 2427.1, 3659.7, 25025.8, 32826.7]   \n",
       "\n",
       "  cpk-hex block                                        image.title  \\\n",
       "0  ffffff     s  Vial of glowing ultrapure hydrogen, H2. Origin...   \n",
       "1  d9ffff     s  Vial of glowing ultrapure helium. Original siz...   \n",
       "2  cc80ff     s  0.5 Grams Lithium under Argon. Original size o...   \n",
       "3  c2ff00     s  Pure Beryllium bead, 2.5 grams. Original size ...   \n",
       "4  ffb5b5     p  Pure Crystalline Boron, front and back side. O...   \n",
       "\n",
       "                                           image.url  \\\n",
       "0  https://upload.wikimedia.org/wikipedia/commons...   \n",
       "1  https://upload.wikimedia.org/wikipedia/commons...   \n",
       "2  https://upload.wikimedia.org/wikipedia/commons...   \n",
       "3  https://upload.wikimedia.org/wikipedia/commons...   \n",
       "4  https://upload.wikimedia.org/wikipedia/commons...   \n",
       "\n",
       "                                   image.attribution  \n",
       "0  User:Jurii, CC BY 3.0 <https://creativecommons...  \n",
       "1  Jurii, CC BY 3.0 <https://creativecommons.org/...  \n",
       "2  Hi-Res Images ofChemical Elements, CC BY 3.0 <...  \n",
       "3  Hi-Res Images ofChemical Elements, CC BY 3.0 <...  \n",
       "4  Jurii, CC BY 3.0 <https://creativecommons.org/...  \n",
       "\n",
       "[5 rows x 35 columns]"
      ]
     },
     "execution_count": 57,
     "metadata": {},
     "output_type": "execute_result"
    }
   ],
   "source": [
    "df.head()"
   ]
  },
  {
   "cell_type": "code",
   "execution_count": 58,
   "id": "9f48163c-9c7c-4009-bfb9-9fe209d55cff",
   "metadata": {},
   "outputs": [
    {
     "data": {
      "text/plain": [
       "Index(['name', 'appearance', 'atomic_mass', 'boil', 'category', 'density',\n",
       "       'discovered_by', 'melt', 'molar_heat', 'named_by', 'number', 'period',\n",
       "       'group', 'phase', 'source', 'bohr_model_image', 'bohr_model_3d',\n",
       "       'spectral_img', 'summary', 'symbol', 'xpos', 'ypos', 'wxpos', 'wypos',\n",
       "       'shells', 'electron_configuration', 'electron_configuration_semantic',\n",
       "       'electron_affinity', 'electronegativity_pauling', 'ionization_energies',\n",
       "       'cpk-hex', 'block', 'image.title', 'image.url', 'image.attribution'],\n",
       "      dtype='object')"
      ]
     },
     "execution_count": 58,
     "metadata": {},
     "output_type": "execute_result"
    }
   ],
   "source": [
    "df.columns"
   ]
  },
  {
   "cell_type": "code",
   "execution_count": 59,
   "id": "edd819c9-c028-4d4c-9a9d-88eb823807f9",
   "metadata": {},
   "outputs": [
    {
     "data": {
      "text/plain": [
       "'https://storage.googleapis.com/search-ar-edu/periodic-table/element_001_hydrogen/element_001_hydrogen_srp_th.png'"
      ]
     },
     "execution_count": 59,
     "metadata": {},
     "output_type": "execute_result"
    }
   ],
   "source": [
    "df.bohr_model_image[0]"
   ]
  },
  {
   "cell_type": "code",
   "execution_count": 60,
   "id": "98e17a08-6b4d-47e8-bf20-f55364eea52b",
   "metadata": {},
   "outputs": [
    {
     "data": {
      "text/plain": [
       "phase\n",
       "Solid     105\n",
       "Gas        11\n",
       "Liquid      3\n",
       "Name: count, dtype: int64"
      ]
     },
     "execution_count": 60,
     "metadata": {},
     "output_type": "execute_result"
    }
   ],
   "source": [
    "df.phase.value_counts()"
   ]
  },
  {
   "cell_type": "code",
   "execution_count": 61,
   "id": "04ae25c7-623e-4519-ab6e-1a2d4df958c7",
   "metadata": {},
   "outputs": [
    {
     "data": {
      "text/plain": [
       "array(['diatomic nonmetal', 'noble gas', 'alkali metal',\n",
       "       'alkaline earth metal', 'metalloid', 'polyatomic nonmetal',\n",
       "       'post-transition metal', 'transition metal', 'lanthanide',\n",
       "       'actinide', 'unknown, probably transition metal',\n",
       "       'unknown, probably post-transition metal',\n",
       "       'unknown, probably metalloid',\n",
       "       'unknown, predicted to be noble gas',\n",
       "       'unknown, but predicted to be an alkali metal'], dtype=object)"
      ]
     },
     "execution_count": 61,
     "metadata": {},
     "output_type": "execute_result"
    }
   ],
   "source": [
    "df['category'].unique()"
   ]
  },
  {
   "cell_type": "code",
   "execution_count": 62,
   "id": "708b95d4-6193-46a9-a121-7d56f9dcfc47",
   "metadata": {},
   "outputs": [],
   "source": [
    "def categorize(text):\n",
    "    return text\n"
   ]
  },
  {
   "cell_type": "code",
   "execution_count": 63,
   "id": "d4b56bf6-10ed-480c-a8c1-aa20f0c2c7cb",
   "metadata": {},
   "outputs": [],
   "source": [
    "d = {\n",
    "    'diatomic nonmetal':'nonmetal',\n",
    "    'noble gas':'noble_gas', \n",
    "    'alkali metal':'alkali_metal',\n",
    "       'alkaline earth metal':'earth_metal',\n",
    "    'metalloid':'metalloid', \n",
    "    'polyatomic nonmetal':'nonmetal',\n",
    "       'post-transition metal':'transition_metal',\n",
    "    'transition metal':'transition_metal',\n",
    "    'lanthanide':'lanthanide',\n",
    "       'actinide':'actinide',\n",
    "    'unknown, probably transition metal':'transition_metal',\n",
    "       'unknown, probably post-transition metal':'transition_metal',\n",
    "       'unknown, probably metalloid':'metalloid',\n",
    "       'unknown, predicted to be noble gas':'noble_gas',\n",
    "       'unknown, but predicted to be an alkali metal':'alkali_metal'\n",
    "}\n",
    "#df[\"modified_category\"] = df.category.map(d)\n",
    "#df[\"modified_category\"].unique()"
   ]
  },
  {
   "cell_type": "code",
   "execution_count": 64,
   "id": "65e928c4-a2bc-4ede-96f8-a0809faa14e2",
   "metadata": {},
   "outputs": [],
   "source": [
    "#df.to_json(\"pd_updatedcopy.json\",orient=\"records\",indent=4)"
   ]
  },
  {
   "cell_type": "code",
   "execution_count": 65,
   "id": "fbc8d82c-d9b3-4d99-b3e0-0d6af756db10",
   "metadata": {},
   "outputs": [],
   "source": [
    "#df.modified_category"
   ]
  },
  {
   "cell_type": "code",
   "execution_count": 66,
   "id": "6ed1170e-6966-4d4c-bbaa-bab5289a9453",
   "metadata": {},
   "outputs": [
    {
     "name": "stdout",
     "output_type": "stream",
     "text": [
      "/home/ravi/js_projects/33_periodic_table/periodic table/src/assets\n"
     ]
    }
   ],
   "source": [
    "!pwd"
   ]
  },
  {
   "cell_type": "code",
   "execution_count": 67,
   "id": "708a84f0-bba2-405d-81a3-83fc2c48f467",
   "metadata": {},
   "outputs": [
    {
     "data": {
      "text/plain": [
       "0              nonmetal\n",
       "1             noble_gas\n",
       "2          alkali_metal\n",
       "3           earth_metal\n",
       "4             metalloid\n",
       "             ...       \n",
       "114    transition_metal\n",
       "115    transition_metal\n",
       "116           metalloid\n",
       "117           noble_gas\n",
       "118        alkali_metal\n",
       "Name: modified_category, Length: 119, dtype: object"
      ]
     },
     "execution_count": 67,
     "metadata": {},
     "output_type": "execute_result"
    }
   ],
   "source": [
    "s = pd.read_json(\"pd_updated.json\")\n",
    "pd.json_normalize(s['elements'])[\"modified_category\"]"
   ]
  }
 ],
 "metadata": {
  "kernelspec": {
   "display_name": "Python 3 (ipykernel)",
   "language": "python",
   "name": "python3"
  },
  "language_info": {
   "codemirror_mode": {
    "name": "ipython",
    "version": 3
   },
   "file_extension": ".py",
   "mimetype": "text/x-python",
   "name": "python",
   "nbconvert_exporter": "python",
   "pygments_lexer": "ipython3",
   "version": "3.10.12"
  }
 },
 "nbformat": 4,
 "nbformat_minor": 5
}
